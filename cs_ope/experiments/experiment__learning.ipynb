{
 "cells": [
  {
   "cell_type": "code",
   "execution_count": 28,
   "metadata": {},
   "outputs": [
    {
     "name": "stdout",
     "output_type": "stream",
     "text": [
      "The autoreload extension is already loaded. To reload it, use:\n",
      "  %reload_ext autoreload\n"
     ]
    }
   ],
   "source": [
    "%load_ext autoreload\n",
    "%autoreload 2"
   ]
  },
  {
   "cell_type": "code",
   "execution_count": 29,
   "metadata": {},
   "outputs": [],
   "source": [
    "import numpy as np\n",
    "import argparse\n",
    "import sys\n",
    "from sklearn.linear_model import LogisticRegression\n",
    "from sklearn.datasets import load_svmlight_file\n",
    "import sys\n",
    "sys.path.append('../')\n",
    "\n",
    "from cs_opl import op_learning\n",
    "from experiment_learning import *"
   ]
  },
  {
   "cell_type": "code",
   "execution_count": null,
   "metadata": {},
   "outputs": [],
   "source": [
    "data_name = 'satimage'\n",
    "num_trials = 1\n",
    "sample_size = 300\n",
    "\n",
    "if data_name == 'satimage':\n",
    "    data_name = 'satimage.scale'\n",
    "elif data_name == 'vehicle':\n",
    "    data_name = 'vehicle.scale'\n",
    "\n",
    "alphas = [0.7, 0.4, 0.0]\n",
    "\n",
    "tau_list = np.zeros(num_trials)\n",
    "res_ipw3_list = np.zeros((num_trials, len(alphas)))\n",
    "res_dm_list = np.zeros((num_trials, len(alphas)))\n",
    "res_dml2_list = np.zeros((num_trials, len(alphas)))\n",
    "\n",
    "res_ipw3_sn_list = np.zeros((num_trials, len(alphas)))\n",
    "res_dml2_sn_list = np.zeros((num_trials, len(alphas)))\n",
    "\n",
    "for trial in range(num_trials):\n",
    "    X, Y, Y_matrix, train_test_split, classes, N, N_train, N_test = data_generation(data_name, sample_size)\n",
    "\n",
    "    X_train, X_test = X[train_test_split], X[~train_test_split]\n",
    "\n",
    "    Y_matrix_train, Y_matrix_test = Y_matrix[train_test_split], Y_matrix[~train_test_split]\n",
    "\n",
    "    for idx_alpha in  range(len(alphas)):    \n",
    "        alpha = alphas[idx_alpha]\n",
    "\n",
    "        pi_behavior, pi_evaluation  = behavior_and_evaluation_policy(X, Y, train_test_split, classes, alpha=alpha)\n",
    "\n",
    "        pi_behavior_train = pi_behavior[train_test_split]\n",
    "        pi_evaluation_train, pi_evaluation_test = pi_evaluation[train_test_split], pi_evaluation[~train_test_split]\n",
    "\n",
    "        tau = true_value(Y_matrix_test, pi_evaluation_test, N_test)\n",
    "        tau_list[trial] = tau\n",
    "\n",
    "        perm = np.random.permutation(N_train)\n",
    "        X_seq_train, Y_matrix_seq_train, pi_behavior_seq_train, pi_evaluation_seq_train = X_train[perm], Y_matrix_train[perm], pi_behavior_train[perm], pi_evaluation_train[perm]\n",
    "\n",
    "        Y_historical_matrix = np.zeros(shape=(N_train, len(classes)))\n",
    "        A_historical_matrix = np.zeros(shape=(N_train, len(classes)))\n",
    "\n",
    "        for i in range(N_train):\n",
    "            a = np.random.choice(classes, p=pi_behavior_seq_train[i])\n",
    "            Y_historical_matrix[i, a] = Y_matrix_seq_train[i, a]\n",
    "            A_historical_matrix[i, a] = 1\n",
    "            \n",
    "        estimators = op_learning(X_seq_train, A_historical_matrix, Y_historical_matrix, X_test, classes)\n",
    "        \n",
    "        estimators.ipw_est_parameters()\n",
    "        epol_ipw = estimators.ipw_fit(folds=5, algorithm='Ridge', self_norm=False)\n",
    "        #epol_ipw_sn = estimators.ipw_fit(folds=5, algorithm='Ridge', self_norm=True)\n",
    "\n",
    "        estimators.dm_est_parameters()\n",
    "        epol_dm = estimators.dm_fit(folds=5, algorithm='Ridge')\n",
    "        \n",
    "        estimators.dml_est_parameters(folds=5, algorithm='Ridge')\n",
    "        epol_dml = estimators.dml_fit(folds=5, algorithm='Ridge', self_norm=False)\n",
    "        epol_dml_sn = estimators.dml_fit(folds=5, algorithm='Ridge', self_norm=True)\n",
    "\n",
    "        res_ipw3 =  true_value(Y_matrix_test, epol_ipw, N_test)\n",
    "        res_ipw3_sn =  true_value(Y_matrix_test, epol_ipw_sn, N_test)\n",
    "        res_dm =  true_value(Y_matrix_test, epol_dm, N_test)\n",
    "        res_dml2 =  true_value(Y_matrix_test, epol_dml, N_test)\n",
    "        res_dml2_sn =  true_value(Y_matrix_test, epol_dml_sn, N_test)\n",
    "\n",
    "        print('trial', trial)\n",
    "        print('True:', tau)\n",
    "        print('IPW3:', res_ipw3)\n",
    "        print('IPW3_SN:', res_ipw3_sn)\n",
    "        print('DM:', res_dm)\n",
    "        print('DML2:', res_dml2)\n",
    "        print('DML2_SN:', res_dml2_sn)\n",
    "\n",
    "        res_ipw3_list[trial, idx_alpha] = res_ipw3\n",
    "        res_ipw3_sn_list[trial, idx_alpha] = res_ipw3_sn\n",
    "        res_dm_list[trial, idx_alpha] = res_dm\n",
    "        res_dml2_list[trial, idx_alpha] = res_dml2\n",
    "        res_dml2_sn_list[trial, idx_alpha] = res_dml2_sn\n",
    "\n",
    "        np.savetxt(\"exp_results/true_value_%s.csv\"%data_name, tau_list, delimiter=\",\")\n",
    "        np.savetxt(\"exp_results/res_opl_ipw3_%s.csv\"%data_name, res_ipw3_list, delimiter=\",\")\n",
    "        np.savetxt(\"exp_results/res_opl_ipw3_sn_%s.csv\"%data_name, res_ipw3_sn_list, delimiter=\",\")\n",
    "        np.savetxt(\"exp_results/res_opl_dm_%s.csv\"%data_name, res_dm_list, delimiter=\",\")\n",
    "        np.savetxt(\"exp_results/res_opl_dml2_%s.csv\"%data_name, res_dml2_list, delimiter=\",\")\n",
    "        np.savetxt(\"exp_results/res_opl_dml2_sn_%s.csv\"%data_name, res_dml２_sn_list, delimiter=\",\")"
   ]
  },
  {
   "cell_type": "code",
   "execution_count": null,
   "metadata": {},
   "outputs": [
    {
     "name": "stdout",
     "output_type": "stream",
     "text": [
      "score0 0.6281391056431078\n",
      "score 0.611430644988967\n",
      "score0 0.42378399295433766\n",
      "score 0.6225404625964648\n",
      "score0 0.37013128600914963\n",
      "score 0.5321241309923755\n",
      "score0 0.1444720140860965\n",
      "score 0.18152727628563511\n",
      "score0 0.1199047602761341\n",
      "score 0.1448962006648356\n",
      "score0 0.6307189979415473\n",
      "score 0.4666335542255565\n",
      "score0 0.46211439254469266\n",
      "score 0.47438096205368513\n",
      "score0 0.40743386605520443\n",
      "score 0.41370491617286415\n",
      "score0 0.15641548884902803\n",
      "score 0.15441627150564424\n",
      "score0 0.1256774783461448\n",
      "score 0.12277383666902063\n",
      "score0 0.6598423620621678\n",
      "score 0.37159114994547726\n",
      "score0 0.48737779052865676\n",
      "score 0.3761616118631341\n",
      "score0 0.43208402988614975\n",
      "score 0.3331174965241599\n",
      "score0 0.16447692960961285\n",
      "score 0.1382561263029049\n",
      "score0 0.12855572508175017\n",
      "score 0.11205811736380601\n",
      "score0 0.4967873733363951\n",
      "score 0.3765508167144877\n",
      "score0 0.4888873575311859\n",
      "score 0.3702025919112345\n",
      "score0 0.4333972118401222\n",
      "score 0.32794964015250205\n",
      "score0 0.16529144059203515\n",
      "score 0.1363244045817416\n",
      "score0 0.12860611484564338\n",
      "score 0.11204590351572703\n"
     ]
    }
   ],
   "source": [
    "epol_dml = estimators.dml_fit(folds=5, algorithm='Ridge', self_norm=False)"
   ]
  },
  {
   "cell_type": "code",
   "execution_count": null,
   "metadata": {},
   "outputs": [],
   "source": []
  },
  {
   "cell_type": "code",
   "execution_count": null,
   "metadata": {},
   "outputs": [],
   "source": []
  },
  {
   "cell_type": "code",
   "execution_count": null,
   "metadata": {},
   "outputs": [],
   "source": []
  }
 ],
 "metadata": {
  "kernelspec": {
   "display_name": "Python 3",
   "language": "python",
   "name": "python3"
  },
  "language_info": {
   "codemirror_mode": {
    "name": "ipython",
    "version": 3
   },
   "file_extension": ".py",
   "mimetype": "text/x-python",
   "name": "python",
   "nbconvert_exporter": "python",
   "pygments_lexer": "ipython3",
   "version": "3.7.5"
  }
 },
 "nbformat": 4,
 "nbformat_minor": 2
}
