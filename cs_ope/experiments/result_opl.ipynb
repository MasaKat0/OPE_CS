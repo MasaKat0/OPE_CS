{
 "cells": [
  {
   "cell_type": "code",
   "execution_count": 1,
   "metadata": {},
   "outputs": [],
   "source": [
    "import numpy as np\n",
    "import pandas as pd"
   ]
  },
  {
   "cell_type": "code",
   "execution_count": 28,
   "metadata": {},
   "outputs": [],
   "source": [
    "data_name = 'satimage.scale'\n",
    "#data_name = 'pendigits'\n",
    "#data_name = 'vehicle.scale'\n",
    "\n",
    "#true_value = np.loadtxt(fname='exp_results/true_value_%s.csv'%data_name,  dtype=\"float\", delimiter=\",\")\n",
    "res_ipw3 = np.loadtxt(fname='result_opl/res_opl_ipw3_%s.csv'%data_name,  dtype=\"float\", delimiter=\",\")\n",
    "res_dm = np.loadtxt(fname='result_opl/res_opl_dm_%s.csv'%data_name,  dtype=\"float\", delimiter=\",\")\n",
    "res_dml2 = np.loadtxt(fname='result_opl/res_opl_dml2_%s.csv'%data_name,  dtype=\"float\", delimiter=\",\")"
   ]
  },
  {
   "cell_type": "code",
   "execution_count": 29,
   "metadata": {},
   "outputs": [
    {
     "data": {
      "text/plain": [
       "array([[0.41354478, 0.39100937, 0.51461017],\n",
       "       [0.2306482 , 0.4788557 , 0.51240477],\n",
       "       [0.40953182, 0.38798577, 0.58309707],\n",
       "       [0.37215492, 0.458388  , 0.46588563],\n",
       "       [0.33027347, 0.44482929, 0.50188653],\n",
       "       [0.2699165 , 0.41752268, 0.42794829],\n",
       "       [0.57185467, 0.46494307, 0.45469151],\n",
       "       [0.35508461, 0.42404299, 0.45481301],\n",
       "       [0.27115065, 0.36870869, 0.46614625],\n",
       "       [0.40775534, 0.53896471, 0.26243252]])"
      ]
     },
     "execution_count": 29,
     "metadata": {},
     "output_type": "execute_result"
    }
   ],
   "source": [
    "res_ipw3"
   ]
  },
  {
   "cell_type": "code",
   "execution_count": 30,
   "metadata": {},
   "outputs": [],
   "source": [
    "res_ipw3 = res_ipw3[:50]\n",
    "res_dm = res_dm[:50]\n",
    "res_dml2 = res_dml2[:50]"
   ]
  },
  {
   "cell_type": "code",
   "execution_count": 22,
   "metadata": {},
   "outputs": [],
   "source": [
    "for i in range(3):\n",
    "    mse_dml2 = np.mean(res_dml2[:,i])\n",
    "    mse_ipw3 = np.mean(res_ipw3[:,i])\n",
    "    mse_dm = np.mean(res_dm[:,i])\n",
    "    \n",
    "    if i == 0:\n",
    "        data = np.array([[mse_dml2, mse_ipw3, mse_dm]])\n",
    "    else:\n",
    "        data = np.append(data, np.array([[mse_dml2, mse_ipw3, mse_dm]]), axis=0)"
   ]
  },
  {
   "cell_type": "code",
   "execution_count": 23,
   "metadata": {},
   "outputs": [
    {
     "name": "stdout",
     "output_type": "stream",
     "text": [
      "\\begin{tabular}{lrrr}\n",
      "\\toprule\n",
      "{} &      0 &      1 &      2 \\\\\n",
      "\\midrule\n",
      "0 &  0.531 &  0.271 &  0.451 \\\\\n",
      "1 &  0.543 &  0.301 &  0.348 \\\\\n",
      "2 &  0.468 &  0.216 &  0.293 \\\\\n",
      "\\bottomrule\n",
      "\\end{tabular}\n",
      "\n"
     ]
    }
   ],
   "source": [
    "print(np.round(pd.DataFrame(data), 3).to_latex())"
   ]
  },
  {
   "cell_type": "code",
   "execution_count": 24,
   "metadata": {},
   "outputs": [
    {
     "ename": "OSError",
     "evalue": "exp_results/true_value_satimage.scale.csv not found.",
     "output_type": "error",
     "traceback": [
      "\u001b[0;31m---------------------------------------------------------------------------\u001b[0m",
      "\u001b[0;31mOSError\u001b[0m                                   Traceback (most recent call last)",
      "\u001b[0;32m<ipython-input-24-d0c78ea35784>\u001b[0m in \u001b[0;36m<module>\u001b[0;34m\u001b[0m\n\u001b[1;32m      3\u001b[0m \u001b[0;31m#data_name = 'vehicle.scale'\u001b[0m\u001b[0;34m\u001b[0m\u001b[0;34m\u001b[0m\u001b[0;34m\u001b[0m\u001b[0m\n\u001b[1;32m      4\u001b[0m \u001b[0;34m\u001b[0m\u001b[0m\n\u001b[0;32m----> 5\u001b[0;31m \u001b[0mtrue_value\u001b[0m \u001b[0;34m=\u001b[0m \u001b[0mnp\u001b[0m\u001b[0;34m.\u001b[0m\u001b[0mloadtxt\u001b[0m\u001b[0;34m(\u001b[0m\u001b[0mfname\u001b[0m\u001b[0;34m=\u001b[0m\u001b[0;34m'exp_results/true_value_%s.csv'\u001b[0m\u001b[0;34m%\u001b[0m\u001b[0mdata_name\u001b[0m\u001b[0;34m,\u001b[0m  \u001b[0mdtype\u001b[0m\u001b[0;34m=\u001b[0m\u001b[0;34m\"float\"\u001b[0m\u001b[0;34m,\u001b[0m \u001b[0mdelimiter\u001b[0m\u001b[0;34m=\u001b[0m\u001b[0;34m\",\"\u001b[0m\u001b[0;34m)\u001b[0m\u001b[0;34m\u001b[0m\u001b[0;34m\u001b[0m\u001b[0m\n\u001b[0m\u001b[1;32m      6\u001b[0m \u001b[0mres_ipw3\u001b[0m \u001b[0;34m=\u001b[0m \u001b[0mnp\u001b[0m\u001b[0;34m.\u001b[0m\u001b[0mloadtxt\u001b[0m\u001b[0;34m(\u001b[0m\u001b[0mfname\u001b[0m\u001b[0;34m=\u001b[0m\u001b[0;34m'exp_results/res_ipw3_%s.csv'\u001b[0m\u001b[0;34m%\u001b[0m\u001b[0mdata_name\u001b[0m\u001b[0;34m,\u001b[0m  \u001b[0mdtype\u001b[0m\u001b[0;34m=\u001b[0m\u001b[0;34m\"float\"\u001b[0m\u001b[0;34m,\u001b[0m \u001b[0mdelimiter\u001b[0m\u001b[0;34m=\u001b[0m\u001b[0;34m\",\"\u001b[0m\u001b[0;34m)\u001b[0m\u001b[0;34m\u001b[0m\u001b[0;34m\u001b[0m\u001b[0m\n\u001b[1;32m      7\u001b[0m \u001b[0mres_dm\u001b[0m \u001b[0;34m=\u001b[0m \u001b[0mnp\u001b[0m\u001b[0;34m.\u001b[0m\u001b[0mloadtxt\u001b[0m\u001b[0;34m(\u001b[0m\u001b[0mfname\u001b[0m\u001b[0;34m=\u001b[0m\u001b[0;34m'exp_results/res_dm_%s.csv'\u001b[0m\u001b[0;34m%\u001b[0m\u001b[0mdata_name\u001b[0m\u001b[0;34m,\u001b[0m  \u001b[0mdtype\u001b[0m\u001b[0;34m=\u001b[0m\u001b[0;34m\"float\"\u001b[0m\u001b[0;34m,\u001b[0m \u001b[0mdelimiter\u001b[0m\u001b[0;34m=\u001b[0m\u001b[0;34m\",\"\u001b[0m\u001b[0;34m)\u001b[0m\u001b[0;34m\u001b[0m\u001b[0;34m\u001b[0m\u001b[0m\n",
      "\u001b[0;32m~/opt/anaconda3/lib/python3.7/site-packages/numpy/lib/npyio.py\u001b[0m in \u001b[0;36mloadtxt\u001b[0;34m(fname, dtype, comments, delimiter, converters, skiprows, usecols, unpack, ndmin, encoding, max_rows)\u001b[0m\n\u001b[1;32m    966\u001b[0m             \u001b[0mfname\u001b[0m \u001b[0;34m=\u001b[0m \u001b[0mos_fspath\u001b[0m\u001b[0;34m(\u001b[0m\u001b[0mfname\u001b[0m\u001b[0;34m)\u001b[0m\u001b[0;34m\u001b[0m\u001b[0;34m\u001b[0m\u001b[0m\n\u001b[1;32m    967\u001b[0m         \u001b[0;32mif\u001b[0m \u001b[0m_is_string_like\u001b[0m\u001b[0;34m(\u001b[0m\u001b[0mfname\u001b[0m\u001b[0;34m)\u001b[0m\u001b[0;34m:\u001b[0m\u001b[0;34m\u001b[0m\u001b[0;34m\u001b[0m\u001b[0m\n\u001b[0;32m--> 968\u001b[0;31m             \u001b[0mfh\u001b[0m \u001b[0;34m=\u001b[0m \u001b[0mnp\u001b[0m\u001b[0;34m.\u001b[0m\u001b[0mlib\u001b[0m\u001b[0;34m.\u001b[0m\u001b[0m_datasource\u001b[0m\u001b[0;34m.\u001b[0m\u001b[0mopen\u001b[0m\u001b[0;34m(\u001b[0m\u001b[0mfname\u001b[0m\u001b[0;34m,\u001b[0m \u001b[0;34m'rt'\u001b[0m\u001b[0;34m,\u001b[0m \u001b[0mencoding\u001b[0m\u001b[0;34m=\u001b[0m\u001b[0mencoding\u001b[0m\u001b[0;34m)\u001b[0m\u001b[0;34m\u001b[0m\u001b[0;34m\u001b[0m\u001b[0m\n\u001b[0m\u001b[1;32m    969\u001b[0m             \u001b[0mfencoding\u001b[0m \u001b[0;34m=\u001b[0m \u001b[0mgetattr\u001b[0m\u001b[0;34m(\u001b[0m\u001b[0mfh\u001b[0m\u001b[0;34m,\u001b[0m \u001b[0;34m'encoding'\u001b[0m\u001b[0;34m,\u001b[0m \u001b[0;34m'latin1'\u001b[0m\u001b[0;34m)\u001b[0m\u001b[0;34m\u001b[0m\u001b[0;34m\u001b[0m\u001b[0m\n\u001b[1;32m    970\u001b[0m             \u001b[0mfh\u001b[0m \u001b[0;34m=\u001b[0m \u001b[0miter\u001b[0m\u001b[0;34m(\u001b[0m\u001b[0mfh\u001b[0m\u001b[0;34m)\u001b[0m\u001b[0;34m\u001b[0m\u001b[0;34m\u001b[0m\u001b[0m\n",
      "\u001b[0;32m~/opt/anaconda3/lib/python3.7/site-packages/numpy/lib/_datasource.py\u001b[0m in \u001b[0;36mopen\u001b[0;34m(path, mode, destpath, encoding, newline)\u001b[0m\n\u001b[1;32m    267\u001b[0m \u001b[0;34m\u001b[0m\u001b[0m\n\u001b[1;32m    268\u001b[0m     \u001b[0mds\u001b[0m \u001b[0;34m=\u001b[0m \u001b[0mDataSource\u001b[0m\u001b[0;34m(\u001b[0m\u001b[0mdestpath\u001b[0m\u001b[0;34m)\u001b[0m\u001b[0;34m\u001b[0m\u001b[0;34m\u001b[0m\u001b[0m\n\u001b[0;32m--> 269\u001b[0;31m     \u001b[0;32mreturn\u001b[0m \u001b[0mds\u001b[0m\u001b[0;34m.\u001b[0m\u001b[0mopen\u001b[0m\u001b[0;34m(\u001b[0m\u001b[0mpath\u001b[0m\u001b[0;34m,\u001b[0m \u001b[0mmode\u001b[0m\u001b[0;34m,\u001b[0m \u001b[0mencoding\u001b[0m\u001b[0;34m=\u001b[0m\u001b[0mencoding\u001b[0m\u001b[0;34m,\u001b[0m \u001b[0mnewline\u001b[0m\u001b[0;34m=\u001b[0m\u001b[0mnewline\u001b[0m\u001b[0;34m)\u001b[0m\u001b[0;34m\u001b[0m\u001b[0;34m\u001b[0m\u001b[0m\n\u001b[0m\u001b[1;32m    270\u001b[0m \u001b[0;34m\u001b[0m\u001b[0m\n\u001b[1;32m    271\u001b[0m \u001b[0;34m\u001b[0m\u001b[0m\n",
      "\u001b[0;32m~/opt/anaconda3/lib/python3.7/site-packages/numpy/lib/_datasource.py\u001b[0m in \u001b[0;36mopen\u001b[0;34m(self, path, mode, encoding, newline)\u001b[0m\n\u001b[1;32m    621\u001b[0m                                       encoding=encoding, newline=newline)\n\u001b[1;32m    622\u001b[0m         \u001b[0;32melse\u001b[0m\u001b[0;34m:\u001b[0m\u001b[0;34m\u001b[0m\u001b[0;34m\u001b[0m\u001b[0m\n\u001b[0;32m--> 623\u001b[0;31m             \u001b[0;32mraise\u001b[0m \u001b[0mIOError\u001b[0m\u001b[0;34m(\u001b[0m\u001b[0;34m\"%s not found.\"\u001b[0m \u001b[0;34m%\u001b[0m \u001b[0mpath\u001b[0m\u001b[0;34m)\u001b[0m\u001b[0;34m\u001b[0m\u001b[0;34m\u001b[0m\u001b[0m\n\u001b[0m\u001b[1;32m    624\u001b[0m \u001b[0;34m\u001b[0m\u001b[0m\n\u001b[1;32m    625\u001b[0m \u001b[0;34m\u001b[0m\u001b[0m\n",
      "\u001b[0;31mOSError\u001b[0m: exp_results/true_value_satimage.scale.csv not found."
     ]
    }
   ],
   "source": [
    "data_name = 'satimage.scale'\n",
    "#data_name = 'pendigits'\n",
    "#data_name = 'vehicle.scale'\n",
    "\n",
    "true_value = np.loadtxt(fname='exp_results/true_value_%s.csv'%data_name,  dtype=\"float\", delimiter=\",\")\n",
    "res_ipw3 = np.loadtxt(fname='exp_results/res_ipw3_%s.csv'%data_name,  dtype=\"float\", delimiter=\",\")\n",
    "res_dm = np.loadtxt(fname='exp_results/res_dm_%s.csv'%data_name,  dtype=\"float\", delimiter=\",\")\n",
    "res_dml1 = np.loadtxt(fname='exp_results/res_dml1_%s.csv'%data_name,  dtype=\"float\", delimiter=\",\")\n",
    "res_dml2 = np.loadtxt(fname='exp_results/res_dml2_%s.csv'%data_name,  dtype=\"float\", delimiter=\",\")\n",
    "res_dml1_sn = np.loadtxt(fname='exp_results/res_dml1_sn_%s.csv'%data_name,  dtype=\"float\", delimiter=\",\")\n",
    "res_dml2_sn = np.loadtxt(fname='exp_results/res_dml2_sn_%s.csv'%data_name,  dtype=\"float\", delimiter=\",\")"
   ]
  },
  {
   "cell_type": "code",
   "execution_count": 258,
   "metadata": {},
   "outputs": [],
   "source": [
    "for i in range(3):\n",
    "    mse_dml1 = np.sqrt(np.mean((res_dml1[:,i] - true_value)**2))\n",
    "    mse_dml2 = np.sqrt(np.mean((res_dml2[:,i] - true_value)**2))\n",
    "    mse_dml1_sn = np.sqrt(np.mean((res_dml1_sn[:,i] - true_value)**2))\n",
    "    mse_dml2_sn = np.sqrt(np.mean((res_dml2_sn[:,i] - true_value)**2))\n",
    "    mse_ipw3 = np.sqrt(np.mean((res_ipw3[:,i] - true_value)**2))\n",
    "    mse_dm = np.sqrt(np.mean((res_dm[:,i] - true_value)**2))\n",
    "    \n",
    "    if i == 0:\n",
    "        data = np.array([[mse_dml1, mse_dml2, mse_dml1_sn, mse_dml2_sn, mse_ipw3, mse_dm]])\n",
    "    else:\n",
    "        data = np.append(data, np.array([[mse_dml1, mse_dml2, mse_dml1_sn, mse_dml2_sn, mse_ipw3, mse_dm]]), axis=0)"
   ]
  },
  {
   "cell_type": "code",
   "execution_count": 259,
   "metadata": {},
   "outputs": [
    {
     "name": "stdout",
     "output_type": "stream",
     "text": [
      "\\begin{tabular}{lrrrrrr}\n",
      "\\toprule\n",
      "{} &      0 &      1 &      2 &      3 &       4 &      5 \\\\\n",
      "\\midrule\n",
      "0 &  0.305 &  0.305 &  0.405 &  0.406 &   4.560 &  0.202 \\\\\n",
      "1 &  0.272 &  0.257 &  0.421 &  0.416 &  20.251 &  0.369 \\\\\n",
      "2 &  0.335 &  0.381 &  0.579 &  0.589 &  10.267 &  0.582 \\\\\n",
      "\\bottomrule\n",
      "\\end{tabular}\n",
      "\n"
     ]
    }
   ],
   "source": [
    "print(np.round(pd.DataFrame(data), 3).to_latex())"
   ]
  },
  {
   "cell_type": "code",
   "execution_count": 25,
   "metadata": {},
   "outputs": [
    {
     "data": {
      "text/plain": [
       "array([[0.34615803, 0.35732443, 0.38830912],\n",
       "       [0.29549086, 0.289192  , 0.1905642 ],\n",
       "       [0.3305948 , 0.35494564, 0.16973971],\n",
       "       [0.28548532, 0.33828547, 0.31193576],\n",
       "       [0.36382171, 0.35632439, 0.2676066 ],\n",
       "       [0.26758493, 0.3176647 , 0.26969643],\n",
       "       [0.30860962, 0.32912474, 0.31141428],\n",
       "       [0.23763304, 0.2707934 , 0.25009973],\n",
       "       [0.27609476, 0.3978576 , 0.        ],\n",
       "       [0.        , 0.        , 0.        ]])"
      ]
     },
     "execution_count": 25,
     "metadata": {},
     "output_type": "execute_result"
    }
   ],
   "source": [
    "res_ipw3"
   ]
  },
  {
   "cell_type": "code",
   "execution_count": 170,
   "metadata": {},
   "outputs": [
    {
     "data": {
      "text/plain": [
       "False"
      ]
     },
     "execution_count": 170,
     "metadata": {},
     "output_type": "execute_result"
    }
   ],
   "source": [
    "2350000000 < 1490000000"
   ]
  },
  {
   "cell_type": "code",
   "execution_count": null,
   "metadata": {},
   "outputs": [],
   "source": []
  }
 ],
 "metadata": {
  "kernelspec": {
   "display_name": "Python 3",
   "language": "python",
   "name": "python3"
  },
  "language_info": {
   "codemirror_mode": {
    "name": "ipython",
    "version": 3
   },
   "file_extension": ".py",
   "mimetype": "text/x-python",
   "name": "python",
   "nbconvert_exporter": "python",
   "pygments_lexer": "ipython3",
   "version": "3.7.5"
  }
 },
 "nbformat": 4,
 "nbformat_minor": 2
}
