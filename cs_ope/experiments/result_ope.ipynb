{
 "cells": [
  {
   "cell_type": "code",
   "execution_count": 240,
   "metadata": {},
   "outputs": [],
   "source": [
    "import numpy as np\n",
    "import pandas as pd"
   ]
  },
  {
   "cell_type": "code",
   "execution_count": 241,
   "metadata": {},
   "outputs": [],
   "source": [
    "data_name = 'satimage.scale'\n",
    "data_name = 'pendigits'\n",
    "#data_name = 'vehicle.scale'\n",
    "\n",
    "true_value = np.loadtxt(fname='exp_results/true_value_%s.csv'%data_name,  dtype=\"float\", delimiter=\",\")\n",
    "res_ipw3 = np.loadtxt(fname='exp_results/res_ipw3_%s.csv'%data_name,  dtype=\"float\", delimiter=\",\")\n",
    "res_dm = np.loadtxt(fname='exp_results/res_dm_%s.csv'%data_name,  dtype=\"float\", delimiter=\",\")\n",
    "res_dml1 = np.loadtxt(fname='exp_results/res_dml1_%s.csv'%data_name,  dtype=\"float\", delimiter=\",\")\n",
    "res_dml2 = np.loadtxt(fname='exp_results/res_dml2_%s.csv'%data_name,  dtype=\"float\", delimiter=\",\")"
   ]
  },
  {
   "cell_type": "code",
   "execution_count": 242,
   "metadata": {},
   "outputs": [],
   "source": [
    "true_value = true_value[:50]\n",
    "res_ipw3 = res_ipw3[:50]\n",
    "res_dm = res_dm[:50]\n",
    "res_dml1 = res_dml1[:50]\n",
    "res_dml2 = res_dml2[:50]"
   ]
  },
  {
   "cell_type": "code",
   "execution_count": 243,
   "metadata": {},
   "outputs": [],
   "source": [
    "for i in range(3):\n",
    "    mse_dml1 = np.sqrt(np.mean((res_dml1[:,i] - true_value)**2))\n",
    "    mse_dml2 = np.sqrt(np.mean((res_dml2[:,i] - true_value)**2))\n",
    "    mse_ipw3 = np.sqrt(np.mean((res_ipw3[:,i] - true_value)**2))\n",
    "    mse_dm = np.sqrt(np.mean((res_dm[:,i] - true_value)**2))\n",
    "    \n",
    "    if i == 0:\n",
    "        data = np.array([[mse_dml1, mse_dml2, mse_ipw3, mse_dm]])\n",
    "    else:\n",
    "        data = np.append(data, np.array([[mse_dml1, mse_dml2, mse_ipw3, mse_dm]]), axis=0)"
   ]
  },
  {
   "cell_type": "code",
   "execution_count": 244,
   "metadata": {},
   "outputs": [
    {
     "name": "stdout",
     "output_type": "stream",
     "text": [
      "\\begin{tabular}{lrrrr}\n",
      "\\toprule\n",
      "{} &      0 &      1 &       2 &      3 \\\\\n",
      "\\midrule\n",
      "0 &  0.349 &  0.351 &  43.456 &  0.304 \\\\\n",
      "1 &  0.322 &  0.335 &  40.839 &  0.479 \\\\\n",
      "2 &  0.519 &  0.565 &  17.182 &  0.704 \\\\\n",
      "\\bottomrule\n",
      "\\end{tabular}\n",
      "\n"
     ]
    }
   ],
   "source": [
    "print(np.round(pd.DataFrame(data), 3).to_latex())"
   ]
  },
  {
   "cell_type": "code",
   "execution_count": 257,
   "metadata": {},
   "outputs": [],
   "source": [
    "data_name = 'satimage.scale'\n",
    "#data_name = 'pendigits'\n",
    "#data_name = 'vehicle.scale'\n",
    "\n",
    "true_value = np.loadtxt(fname='exp_results/true_value_%s.csv'%data_name,  dtype=\"float\", delimiter=\",\")\n",
    "res_ipw3 = np.loadtxt(fname='exp_results/res_ipw3_%s.csv'%data_name,  dtype=\"float\", delimiter=\",\")\n",
    "res_dm = np.loadtxt(fname='exp_results/res_dm_%s.csv'%data_name,  dtype=\"float\", delimiter=\",\")\n",
    "res_dml1 = np.loadtxt(fname='exp_results/res_dml1_%s.csv'%data_name,  dtype=\"float\", delimiter=\",\")\n",
    "res_dml2 = np.loadtxt(fname='exp_results/res_dml2_%s.csv'%data_name,  dtype=\"float\", delimiter=\",\")\n",
    "res_dml1_sn = np.loadtxt(fname='exp_results/res_dml1_sn_%s.csv'%data_name,  dtype=\"float\", delimiter=\",\")\n",
    "res_dml2_sn = np.loadtxt(fname='exp_results/res_dml2_sn_%s.csv'%data_name,  dtype=\"float\", delimiter=\",\")"
   ]
  },
  {
   "cell_type": "code",
   "execution_count": 258,
   "metadata": {},
   "outputs": [],
   "source": [
    "for i in range(3):\n",
    "    mse_dml1 = np.sqrt(np.mean((res_dml1[:,i] - true_value)**2))\n",
    "    mse_dml2 = np.sqrt(np.mean((res_dml2[:,i] - true_value)**2))\n",
    "    mse_dml1_sn = np.sqrt(np.mean((res_dml1_sn[:,i] - true_value)**2))\n",
    "    mse_dml2_sn = np.sqrt(np.mean((res_dml2_sn[:,i] - true_value)**2))\n",
    "    mse_ipw3 = np.sqrt(np.mean((res_ipw3[:,i] - true_value)**2))\n",
    "    mse_dm = np.sqrt(np.mean((res_dm[:,i] - true_value)**2))\n",
    "    \n",
    "    if i == 0:\n",
    "        data = np.array([[mse_dml1, mse_dml2, mse_dml1_sn, mse_dml2_sn, mse_ipw3, mse_dm]])\n",
    "    else:\n",
    "        data = np.append(data, np.array([[mse_dml1, mse_dml2, mse_dml1_sn, mse_dml2_sn, mse_ipw3, mse_dm]]), axis=0)"
   ]
  },
  {
   "cell_type": "code",
   "execution_count": 259,
   "metadata": {},
   "outputs": [
    {
     "name": "stdout",
     "output_type": "stream",
     "text": [
      "\\begin{tabular}{lrrrrrr}\n",
      "\\toprule\n",
      "{} &      0 &      1 &      2 &      3 &       4 &      5 \\\\\n",
      "\\midrule\n",
      "0 &  0.305 &  0.305 &  0.405 &  0.406 &   4.560 &  0.202 \\\\\n",
      "1 &  0.272 &  0.257 &  0.421 &  0.416 &  20.251 &  0.369 \\\\\n",
      "2 &  0.335 &  0.381 &  0.579 &  0.589 &  10.267 &  0.582 \\\\\n",
      "\\bottomrule\n",
      "\\end{tabular}\n",
      "\n"
     ]
    }
   ],
   "source": [
    "print(np.round(pd.DataFrame(data), 3).to_latex())"
   ]
  },
  {
   "cell_type": "code",
   "execution_count": null,
   "metadata": {},
   "outputs": [],
   "source": []
  },
  {
   "cell_type": "code",
   "execution_count": 170,
   "metadata": {},
   "outputs": [
    {
     "data": {
      "text/plain": [
       "False"
      ]
     },
     "execution_count": 170,
     "metadata": {},
     "output_type": "execute_result"
    }
   ],
   "source": [
    "2350000000 < 1490000000"
   ]
  },
  {
   "cell_type": "code",
   "execution_count": null,
   "metadata": {},
   "outputs": [],
   "source": []
  }
 ],
 "metadata": {
  "kernelspec": {
   "display_name": "Python 3",
   "language": "python",
   "name": "python3"
  },
  "language_info": {
   "codemirror_mode": {
    "name": "ipython",
    "version": 3
   },
   "file_extension": ".py",
   "mimetype": "text/x-python",
   "name": "python",
   "nbconvert_exporter": "python",
   "pygments_lexer": "ipython3",
   "version": "3.7.5"
  }
 },
 "nbformat": 4,
 "nbformat_minor": 2
}
