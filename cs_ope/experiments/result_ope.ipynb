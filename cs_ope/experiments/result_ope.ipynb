{
 "cells": [
  {
   "cell_type": "code",
   "execution_count": 1,
   "metadata": {},
   "outputs": [],
   "source": [
    "import numpy as np\n",
    "import pandas as pd"
   ]
  },
  {
   "cell_type": "code",
   "execution_count": 24,
   "metadata": {},
   "outputs": [],
   "source": [
    "data_name = 'satimage.scale'\n",
    "#data_name = 'pendigits'\n",
    "#data_name = 'vehicle.scale'\n",
    "\n",
    "true_value = np.loadtxt(fname='exp_results/true_value_%s.csv'%data_name,  dtype=\"float\", delimiter=\",\")\n",
    "res_ipw3 = np.loadtxt(fname='exp_results/res_ipw3_%s.csv'%data_name,  dtype=\"float\", delimiter=\",\")\n",
    "res_ipw3_sn = np.loadtxt(fname='exp_results/res_ipw3_sn_%s.csv'%data_name,  dtype=\"float\", delimiter=\",\")\n",
    "res_dm = np.loadtxt(fname='exp_results/res_dm_%s.csv'%data_name,  dtype=\"float\", delimiter=\",\")\n",
    "res_dml1 = np.loadtxt(fname='exp_results/res_dml1_%s.csv'%data_name,  dtype=\"float\", delimiter=\",\")\n",
    "res_dml2 = np.loadtxt(fname='exp_results/res_dml2_%s.csv'%data_name,  dtype=\"float\", delimiter=\",\")\n",
    "res_dml1_sn = np.loadtxt(fname='exp_results/res_dml1_sn_%s.csv'%data_name,  dtype=\"float\", delimiter=\",\")\n",
    "res_dml2_sn = np.loadtxt(fname='exp_results/res_dml2_sn_%s.csv'%data_name,  dtype=\"float\", delimiter=\",\")"
   ]
  },
  {
   "cell_type": "code",
   "execution_count": 25,
   "metadata": {},
   "outputs": [],
   "source": [
    "for i in range(3):\n",
    "    mse_ipw3 = np.mean((res_ipw3[:,i] - true_value)**2)\n",
    "    mse_ipw3_sn = np.mean((res_ipw3_sn[:,i] - true_value)**2)\n",
    "    mse_dm = np.mean((res_dm[:,i] - true_value)**2)\n",
    "    mse_dml1 = np.mean((res_dml1[:,i] - true_value)**2)\n",
    "    mse_dml2 = np.mean((res_dml2[:,i] - true_value)**2)\n",
    "    mse_dml1_sn = np.mean((res_dml1_sn[:,i] - true_value)**2)\n",
    "    mse_dml2_sn = np.mean((res_dml2_sn[:,i] - true_value)**2)\n",
    "    \n",
    "    if i == 0:\n",
    "        data = np.array([[mse_ipw3, mse_ipw3_sn, mse_dm, mse_dml1, mse_dml2, mse_dml1_sn, mse_dml2_sn]])\n",
    "    else:\n",
    "        data = np.append(data, np.array([[mse_ipw3, mse_ipw3_sn, mse_dm, mse_dml1, mse_dml2, mse_dml1_sn, mse_dml2_sn]]), axis=0)"
   ]
  },
  {
   "cell_type": "code",
   "execution_count": 26,
   "metadata": {},
   "outputs": [
    {
     "data": {
      "text/html": [
       "<div>\n",
       "<style scoped>\n",
       "    .dataframe tbody tr th:only-of-type {\n",
       "        vertical-align: middle;\n",
       "    }\n",
       "\n",
       "    .dataframe tbody tr th {\n",
       "        vertical-align: top;\n",
       "    }\n",
       "\n",
       "    .dataframe thead th {\n",
       "        text-align: right;\n",
       "    }\n",
       "</style>\n",
       "<table border=\"1\" class=\"dataframe\">\n",
       "  <thead>\n",
       "    <tr style=\"text-align: right;\">\n",
       "      <th></th>\n",
       "      <th>0</th>\n",
       "      <th>1</th>\n",
       "      <th>2</th>\n",
       "      <th>3</th>\n",
       "      <th>4</th>\n",
       "      <th>5</th>\n",
       "      <th>6</th>\n",
       "    </tr>\n",
       "  </thead>\n",
       "  <tbody>\n",
       "    <tr>\n",
       "      <th>0</th>\n",
       "      <td>122.828431</td>\n",
       "      <td>0.159446</td>\n",
       "      <td>0.010369</td>\n",
       "      <td>0.033317</td>\n",
       "      <td>0.031991</td>\n",
       "      <td>0.003313</td>\n",
       "      <td>0.002712</td>\n",
       "    </tr>\n",
       "    <tr>\n",
       "      <th>1</th>\n",
       "      <td>62.606427</td>\n",
       "      <td>0.142189</td>\n",
       "      <td>0.049117</td>\n",
       "      <td>0.025736</td>\n",
       "      <td>0.023358</td>\n",
       "      <td>0.015042</td>\n",
       "      <td>0.014937</td>\n",
       "    </tr>\n",
       "    <tr>\n",
       "      <th>2</th>\n",
       "      <td>31.158968</td>\n",
       "      <td>0.148322</td>\n",
       "      <td>0.136762</td>\n",
       "      <td>0.042041</td>\n",
       "      <td>0.045439</td>\n",
       "      <td>0.023985</td>\n",
       "      <td>0.024913</td>\n",
       "    </tr>\n",
       "  </tbody>\n",
       "</table>\n",
       "</div>"
      ],
      "text/plain": [
       "            0         1         2         3         4         5         6\n",
       "0  122.828431  0.159446  0.010369  0.033317  0.031991  0.003313  0.002712\n",
       "1   62.606427  0.142189  0.049117  0.025736  0.023358  0.015042  0.014937\n",
       "2   31.158968  0.148322  0.136762  0.042041  0.045439  0.023985  0.024913"
      ]
     },
     "execution_count": 26,
     "metadata": {},
     "output_type": "execute_result"
    }
   ],
   "source": [
    "pd.DataFrame(data)"
   ]
  },
  {
   "cell_type": "code",
   "execution_count": 23,
   "metadata": {},
   "outputs": [
    {
     "data": {
      "text/plain": [
       "array([[1.75318992e-01, 4.52460297e-01, 7.58486131e-02],\n",
       "       [3.44496536e-02, 2.95490736e-01, 1.65445760e-01],\n",
       "       [3.10659618e-01, 7.04949962e+00, 4.96019796e+00],\n",
       "       [2.26287059e+00, 4.94215781e+00, 3.09809664e+00],\n",
       "       [4.69024992e-01, 7.49614615e-01, 4.73494252e-01],\n",
       "       [1.07926409e+01, 1.57938084e+01, 1.08602550e+01],\n",
       "       [3.00233526e+00, 4.28844619e+00, 1.00498012e+00],\n",
       "       [1.08832954e+01, 8.06712155e-01, 2.05984158e-01],\n",
       "       [7.64758980e-01, 2.29506775e+01, 3.35334438e+01],\n",
       "       [3.73122484e+00, 7.34398437e-01, 4.05224128e+00],\n",
       "       [4.59109724e+01, 6.85570055e+01, 3.41265602e+01],\n",
       "       [4.39525785e-02, 8.48553891e-02, 4.89345003e-01],\n",
       "       [1.25074300e+00, 1.69113250e+00, 3.11375280e+00],\n",
       "       [2.50558323e-01, 2.74989551e-01, 2.70446267e+00],\n",
       "       [2.01203588e+00, 9.00269679e-01, 4.72852121e+00],\n",
       "       [7.33584188e-01, 4.87892865e+00, 1.77189646e+01],\n",
       "       [1.76199523e-01, 3.85892468e-01, 3.67247617e-01],\n",
       "       [7.00245299e-01, 3.83871922e-01, 9.98981482e-01],\n",
       "       [4.22743108e-02, 1.30564534e-01, 1.63723674e+00],\n",
       "       [7.68366897e-01, 3.03870417e+00, 4.13510536e-01],\n",
       "       [4.80195224e-01, 4.44523999e+00, 1.85099635e+00],\n",
       "       [2.57451300e-01, 3.30295447e-01, 4.61173369e-01],\n",
       "       [3.53994440e+00, 1.19946566e+00, 1.10951904e+00],\n",
       "       [2.11685901e+00, 2.87334700e+00, 3.39244513e+00],\n",
       "       [3.03936875e+00, 4.15207112e+00, 2.23127848e+00],\n",
       "       [7.97351041e-02, 2.34878762e-01, 1.33682532e+00],\n",
       "       [9.99229109e+01, 2.35903384e+01, 1.44951049e+01],\n",
       "       [2.57000190e-01, 1.09276073e+00, 3.37425895e-01],\n",
       "       [1.20115659e+00, 5.25177350e-02, 1.90869984e+00],\n",
       "       [1.34172255e+00, 7.42827374e-02, 2.17104999e-01],\n",
       "       [8.87144947e+00, 4.88129841e+00, 7.62931910e+00],\n",
       "       [4.61162383e+00, 1.39698739e+00, 1.20867085e+01],\n",
       "       [4.10624758e+00, 4.34026111e+00, 4.66089995e-01],\n",
       "       [9.94673159e-01, 1.00323344e+01, 7.46465721e+00],\n",
       "       [7.68662546e-02, 5.97664075e-01, 1.28126259e+00],\n",
       "       [4.81098805e-01, 3.48363533e+00, 3.97958651e+00],\n",
       "       [7.26540408e+00, 1.47997581e+00, 4.06727955e+00],\n",
       "       [1.13012468e-01, 1.04021930e+00, 4.14153961e+00],\n",
       "       [4.01673460e+00, 1.29592300e+01, 0.00000000e+00],\n",
       "       [0.00000000e+00, 0.00000000e+00, 0.00000000e+00],\n",
       "       [0.00000000e+00, 0.00000000e+00, 0.00000000e+00],\n",
       "       [0.00000000e+00, 0.00000000e+00, 0.00000000e+00],\n",
       "       [0.00000000e+00, 0.00000000e+00, 0.00000000e+00],\n",
       "       [0.00000000e+00, 0.00000000e+00, 0.00000000e+00],\n",
       "       [0.00000000e+00, 0.00000000e+00, 0.00000000e+00],\n",
       "       [0.00000000e+00, 0.00000000e+00, 0.00000000e+00],\n",
       "       [0.00000000e+00, 0.00000000e+00, 0.00000000e+00],\n",
       "       [0.00000000e+00, 0.00000000e+00, 0.00000000e+00],\n",
       "       [0.00000000e+00, 0.00000000e+00, 0.00000000e+00],\n",
       "       [0.00000000e+00, 0.00000000e+00, 0.00000000e+00]])"
      ]
     },
     "execution_count": 23,
     "metadata": {},
     "output_type": "execute_result"
    }
   ],
   "source": [
    "res_ipw3[:50]"
   ]
  },
  {
   "cell_type": "code",
   "execution_count": null,
   "metadata": {},
   "outputs": [],
   "source": []
  },
  {
   "cell_type": "code",
   "execution_count": null,
   "metadata": {},
   "outputs": [],
   "source": []
  }
 ],
 "metadata": {
  "kernelspec": {
   "display_name": "Python 3",
   "language": "python",
   "name": "python3"
  },
  "language_info": {
   "codemirror_mode": {
    "name": "ipython",
    "version": 3
   },
   "file_extension": ".py",
   "mimetype": "text/x-python",
   "name": "python",
   "nbconvert_exporter": "python",
   "pygments_lexer": "ipython3",
   "version": "3.7.5"
  }
 },
 "nbformat": 4,
 "nbformat_minor": 2
}
