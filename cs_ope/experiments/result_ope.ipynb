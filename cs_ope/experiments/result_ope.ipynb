{
 "cells": [
  {
   "cell_type": "code",
   "execution_count": 299,
   "metadata": {},
   "outputs": [],
   "source": [
    "import numpy as np\n",
    "import pandas as pd"
   ]
  },
  {
   "cell_type": "code",
   "execution_count": 329,
   "metadata": {},
   "outputs": [],
   "source": [
    "data_name = 'satimage.scale'\n",
    "#data_name = 'pendigits'\n",
    "#data_name = 'vehicle.scale'\n",
    "\n",
    "true_value = np.loadtxt(fname='exp_results/true_value_%s.csv'%data_name,  dtype=\"float\", delimiter=\",\")\n",
    "res_ipw3 = np.loadtxt(fname='exp_results/res_ipw3_%s.csv'%data_name,  dtype=\"float\", delimiter=\",\")\n",
    "res_ipw3_lasso = np.loadtxt(fname='exp_results/res_ipw3_ML_%s.csv'%data_name,  dtype=\"float\", delimiter=\",\")\n",
    "res_dm = np.loadtxt(fname='exp_results/res_dm_%s.csv'%data_name,  dtype=\"float\", delimiter=\",\")\n",
    "res_dm_lasso = np.loadtxt(fname='exp_results/res_dm_ML_%s.csv'%data_name,  dtype=\"float\", delimiter=\",\")\n",
    "res_dml1 = np.loadtxt(fname='exp_results/res_dml1_%s.csv'%data_name,  dtype=\"float\", delimiter=\",\")\n",
    "res_dml2 = np.loadtxt(fname='exp_results/res_dml2_%s.csv'%data_name,  dtype=\"float\", delimiter=\",\")"
   ]
  },
  {
   "cell_type": "code",
   "execution_count": 330,
   "metadata": {},
   "outputs": [],
   "source": [
    "trial = 20\n",
    "\n",
    "true_value = true_value[:trial]\n",
    "res_ipw3 = res_ipw3[:trial]\n",
    "res_dm = res_dm[:trial]\n",
    "res_dml1 = res_dml1[:trial]\n",
    "res_dml2 = res_dml2[:trial]\n",
    "res_ipw3_lasso = res_ipw3_lasso[:trial]\n",
    "res_dm_lasso = res_dm_lasso[:trial]"
   ]
  },
  {
   "cell_type": "code",
   "execution_count": 331,
   "metadata": {},
   "outputs": [],
   "source": [
    "for i in range(3):\n",
    "    mse_dml1 = (np.mean((res_dml1[:,i] - true_value)**2))\n",
    "    mse_dml2 = (np.mean((res_dml2[:,i] - true_value)**2))\n",
    "    mse_ipw3 = (np.mean((res_ipw3[:,i] - true_value)**2))\n",
    "    mse_dm = (np.mean((res_dm[:,i] - true_value)**2))\n",
    "    mse_ipw3_lasso = (np.mean((res_ipw3_lasso[:,i] - true_value)**2))\n",
    "    mse_dm_lasso = (np.mean((res_dm_lasso[:,i] - true_value)**2))\n",
    "    \n",
    "    std_dml1 = (np.std((res_dml1[:,i] - true_value)**2))\n",
    "    std_dml2 = (np.std((res_dml2[:,i] - true_value)**2))\n",
    "    std_ipw3 = (np.std((res_ipw3[:,i] - true_value)**2))\n",
    "    std_dm = (np.std((res_dm[:,i] - true_value)**2))\n",
    "    std_ipw3_lasso = (np.std((res_ipw3_lasso[:,i] - true_value)**2))\n",
    "    std_dm_lasso = (np.std((res_dm_lasso[:,i] - true_value)**2))\n",
    "    \n",
    "    if i == 0:\n",
    "        data = np.array([[mse_dml1, std_dml1, mse_dml2, std_dml2, mse_ipw3, std_ipw3, mse_dm, std_dm, mse_ipw3_lasso, std_ipw3_lasso, mse_dm_lasso, std_dm_lasso]])\n",
    "    else:\n",
    "        data = np.append(data, np.array([[mse_dml1, std_dml1, mse_dml2, std_dml2, mse_ipw3, std_ipw3, mse_dm, std_dm, mse_ipw3_lasso, std_ipw3_lasso, mse_dm_lasso, std_dm_lasso]]), axis=0)"
   ]
  },
  {
   "cell_type": "code",
   "execution_count": 332,
   "metadata": {},
   "outputs": [
    {
     "name": "stdout",
     "output_type": "stream",
     "text": [
      "\\begin{tabular}{lrrrrrrrrrrrr}\n",
      "\\toprule\n",
      "{} &      0 &      1 &      2 &      3 &       4 &        5 &      6 &      7 &      8 &      9 &     10 &     11 \\\\\n",
      "\\midrule\n",
      "0 &  0.117 &  0.026 &  0.107 &  0.032 &  67.448 &  144.845 &  0.042 &  0.043 &  0.045 &  0.049 &  0.073 &  0.023 \\\\\n",
      "1 &  0.097 &  0.027 &  0.096 &  0.025 &  74.740 &  155.704 &  0.134 &  0.052 &  0.093 &  0.069 &  0.177 &  0.033 \\\\\n",
      "2 &  0.126 &  0.085 &  0.154 &  0.051 &  58.031 &  103.632 &  0.336 &  0.079 &  0.022 &  0.026 &  0.372 &  0.050 \\\\\n",
      "\\bottomrule\n",
      "\\end{tabular}\n",
      "\n"
     ]
    }
   ],
   "source": [
    "print(np.round(pd.DataFrame(data), 3).to_latex())"
   ]
  },
  {
   "cell_type": "code",
   "execution_count": 341,
   "metadata": {},
   "outputs": [],
   "source": [
    "data_name = 'satimage.scale'\n",
    "data_name = 'pendigits'\n",
    "data_name = 'vehicle.scale'\n",
    "\n",
    "true_value = np.loadtxt(fname='exp_results/true_value_%s.csv'%data_name,  dtype=\"float\", delimiter=\",\")\n",
    "res_ipw3 = np.loadtxt(fname='exp_results/res_ipw3_%s.csv'%data_name,  dtype=\"float\", delimiter=\",\")\n",
    "res_dm = np.loadtxt(fname='exp_results/res_dm_%s.csv'%data_name,  dtype=\"float\", delimiter=\",\")\n",
    "res_dml1 = np.loadtxt(fname='exp_results/res_dml1_%s.csv'%data_name,  dtype=\"float\", delimiter=\",\")\n",
    "res_dml2 = np.loadtxt(fname='exp_results/res_dml2_%s.csv'%data_name,  dtype=\"float\", delimiter=\",\")\n",
    "res_dml1_sn = np.loadtxt(fname='exp_results/res_dml1_sn_%s.csv'%data_name,  dtype=\"float\", delimiter=\",\")\n",
    "res_dml2_sn = np.loadtxt(fname='exp_results/res_dml2_sn_%s.csv'%data_name,  dtype=\"float\", delimiter=\",\")\n",
    "res_ipw3_sn = np.loadtxt(fname='exp_results/res_ipw3_sn_%s.csv'%data_name,  dtype=\"float\", delimiter=\",\")\n",
    "res_ipw3_lasso = np.loadtxt(fname='exp_results/res_ipw3_ML_%s.csv'%data_name,  dtype=\"float\", delimiter=\",\")\n",
    "res_dm_lasso = np.loadtxt(fname='exp_results/res_dm_ML_%s.csv'%data_name,  dtype=\"float\", delimiter=\",\")"
   ]
  },
  {
   "cell_type": "code",
   "execution_count": 342,
   "metadata": {},
   "outputs": [],
   "source": [
    "trial = 20\n",
    "\n",
    "true_value = true_value[:trial]\n",
    "res_ipw3 = res_ipw3[:trial]\n",
    "res_dm = res_dm[:trial]\n",
    "res_dml1 = res_dml1[:trial]\n",
    "res_dml2 = res_dml2[:trial]\n",
    "res_ipw3_lasso = res_ipw3_lasso[:trial]\n",
    "res_dm_lasso = res_dm_lasso[:trial]\n",
    "res_dml1_sn = res_dml1_sn[:trial]\n",
    "res_dml2_sn = res_dml2_sn[:trial]\n",
    "res_ipw3_sn = res_ipw3_sn[:trial]"
   ]
  },
  {
   "cell_type": "code",
   "execution_count": 343,
   "metadata": {},
   "outputs": [],
   "source": [
    "for i in range(3):\n",
    "    mse_dml1 = (np.mean((res_dml1[:,i] - true_value)**2))\n",
    "    mse_dml2 = (np.mean((res_dml2[:,i] - true_value)**2))\n",
    "    mse_ipw3 = (np.mean((res_ipw3[:,i] - true_value)**2))\n",
    "    mse_dm = (np.mean((res_dm[:,i] - true_value)**2))\n",
    "    mse_ipw3_lasso = (np.mean((res_ipw3_lasso[:,i] - true_value)**2))\n",
    "    mse_dm_lasso = (np.mean((res_dm_lasso[:,i] - true_value)**2))\n",
    "    mse_dml1_sn = (np.mean((res_dml1_sn[:,i] - true_value)**2))\n",
    "    mse_dml2_sn = (np.mean((res_dml2_sn[:,i] - true_value)**2))\n",
    "    mse_ipw3_sn = (np.mean((res_ipw3_sn[:,i] - true_value)**2))\n",
    "    \n",
    "    std_dml1 = (np.std((res_dml1[:,i] - true_value)**2))\n",
    "    std_dml2 = (np.std((res_dml2[:,i] - true_value)**2))\n",
    "    std_ipw3 = (np.std((res_ipw3[:,i] - true_value)**2))\n",
    "    std_dm = (np.std((res_dm[:,i] - true_value)**2))\n",
    "    std_ipw3_lasso = (np.std((res_ipw3_lasso[:,i] - true_value)**2))\n",
    "    std_dm_lasso = (np.std((res_dm_lasso[:,i] - true_value)**2))\n",
    "    std_dml1_sn = (np.std((res_dml1_sn[:,i] - true_value)**2))\n",
    "    std_dml2_sn = (np.std((res_dml2_sn[:,i] - true_value)**2))\n",
    "    std_ipw3_sn = (np.std((res_ipw3_sn[:,i] - true_value)**2))\n",
    "    \n",
    "    if i == 0:\n",
    "        data = np.array([[mse_dml1, std_dml1, mse_dml2, std_dml2, mse_ipw3, std_ipw3, mse_dm, std_dm, mse_ipw3_lasso, std_ipw3_lasso, mse_dm_lasso, std_dm_lasso, mse_dml1_sn, std_dml1_sn, mse_dml2_sn, std_dml1_sn, mse_ipw3_sn, std_ipw3_sn]])\n",
    "    else:\n",
    "        data = np.append(data, np.array([[mse_dml1, std_dml1, mse_dml2, std_dml2, mse_ipw3, std_ipw3, mse_dm, std_dm, mse_ipw3_lasso, std_ipw3_lasso, mse_dm_lasso, std_dm_lasso, mse_dml1_sn, std_dml1_sn, mse_dml2_sn, std_dml1_sn, mse_ipw3_sn, std_ipw3_sn]]), axis=0)"
   ]
  },
  {
   "cell_type": "code",
   "execution_count": 344,
   "metadata": {},
   "outputs": [
    {
     "name": "stdout",
     "output_type": "stream",
     "text": [
      "\\begin{tabular}{lrrrrrrrrrrrrrrrrrr}\n",
      "\\toprule\n",
      "{} &      0 &      1 &      2 &      3 &           4 &           5 &      6 &      7 &      8 &      9 &     10 &     11 &     12 &     13 &     14 &     15 &     16 &     17 \\\\\n",
      "\\midrule\n",
      "0 &  0.031 &  0.022 &  0.029 &  0.019 &  218390.000 &  285382.247 &  0.038 &  0.035 &  0.568 &  0.319 &  0.040 &  0.014 &  0.093 &  0.019 &  0.086 &  0.019 &  0.099 &  0.044 \\\\\n",
      "1 &  0.022 &  0.021 &  0.019 &  0.024 &  329825.704 &  454301.175 &  0.095 &  0.062 &  0.576 &  0.357 &  0.089 &  0.019 &  0.085 &  0.015 &  0.086 &  0.015 &  0.125 &  0.063 \\\\\n",
      "2 &  0.028 &  0.029 &  0.037 &  0.030 &  173603.802 &  141163.618 &  0.213 &  0.049 &  0.233 &  0.193 &  0.210 &  0.031 &  0.157 &  0.026 &  0.174 &  0.026 &  0.193 &  0.040 \\\\\n",
      "\\bottomrule\n",
      "\\end{tabular}\n",
      "\n"
     ]
    }
   ],
   "source": [
    "print(np.round(pd.DataFrame(data), 3).to_latex())"
   ]
  },
  {
   "cell_type": "code",
   "execution_count": null,
   "metadata": {},
   "outputs": [],
   "source": []
  }
 ],
 "metadata": {
  "kernelspec": {
   "display_name": "Python 3",
   "language": "python",
   "name": "python3"
  },
  "language_info": {
   "codemirror_mode": {
    "name": "ipython",
    "version": 3
   },
   "file_extension": ".py",
   "mimetype": "text/x-python",
   "name": "python",
   "nbconvert_exporter": "python",
   "pygments_lexer": "ipython3",
   "version": "3.7.5"
  }
 },
 "nbformat": 4,
 "nbformat_minor": 2
}
